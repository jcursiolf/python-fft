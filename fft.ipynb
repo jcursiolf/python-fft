{
 "cells": [
  {
   "cell_type": "markdown",
   "metadata": {},
   "source": [
    "Inicialmente importamos o `pandas`, com delimitador como vírgula. Os dados precisam usar ponto para decimal, exemplo: 0.31416. O argumento `usecols =['Tempo','Axial','Horizontal','Vertical']` diz quais colunas queremos. Se precisar ignorar uma, é só tirar. A coluna \"pontos\" não é necessária pq o pandas já cria uma coluna index automaticamente. Preciso renomear `[g]` para `g` para o Python não confundir com vetor. O `print(df.dtypes)` é pra retornar o tipo dos dados lidos. Esperamos `float` (decimal)."
   ]
  },
  {
   "cell_type": "code",
   "execution_count": null,
   "metadata": {},
   "outputs": [],
   "source": [
    "import pandas as pd\n",
    "df = pd.read_csv('FormaOnda2.csv', delimiter=',', usecols =['Tempo','Axial','Horizontal','Vertical'])\n",
    "# df.rename(columns={'[g]':'g'}, inplace=True)\n",
    "print(df.dtypes)"
   ]
  },
  {
   "cell_type": "code",
   "execution_count": null,
   "metadata": {},
   "outputs": [],
   "source": [
    "import matplotlib.pyplot as plt\n",
    "plt.style.use('seaborn-poster')\n",
    "%matplotlib inline\n",
    "\n",
    "plt.figure(figsize = (24, 6))\n",
    "plt.plot(df['Tempo'], df['Axial'])\n",
    "plt.plot(df['Tempo'], df['Horizontal'])\n",
    "plt.plot(df['Tempo'], df['Vertical'])   \n",
    "plt.xlabel('Tempo (s)')\n",
    "plt.ylabel('g')\n",
    "\n",
    "plt.xticks(rotation=25) # Define angulação do número do \n",
    "plt.show()"
   ]
  },
  {
   "cell_type": "code",
   "execution_count": null,
   "metadata": {},
   "outputs": [],
   "source": [
    "# importar numpy\n",
    "import numpy as np\n",
    "from numpy.fft import fft, ifft\n",
    "\n",
    "\n",
    "\n",
    "X1 = fft(df['Axial']) # FFT\n",
    "X2 = fft(df['Horizontal']) # FFT\n",
    "X3 = fft(df['Vertical']) # FFT\n",
    "N = len(df['Tempo']) # número de pontos\n",
    "n = np.arange(N) #cria um vetor de tamanho N para ser usado como a coluna \"pontos\" do CSV\n",
    "interval = df['Tempo'][N-1] - df['Tempo'][0] # intervalo da amostra\n",
    "sr = N/interval # sampling rate\n",
    "T = N/sr # período\n",
    "freq = n/T\n",
    "t=df['Tempo']"
   ]
  },
  {
   "cell_type": "code",
   "execution_count": null,
   "metadata": {},
   "outputs": [],
   "source": [
    "data = { 'Frequencia': freq, 'Axial': np.abs(X1), 'Horizontal': np.abs(X2), 'Vertical' : np.abs(X3)}\n",
    "result_df = pd.DataFrame(data)\n",
    "result_df.to_csv('result_jupyter.csv')"
   ]
  },
  {
   "cell_type": "code",
   "execution_count": null,
   "metadata": {},
   "outputs": [],
   "source": [
    "# Plot Axial\n",
    "\n",
    "plt.figure(figsize = (24, 6))\n",
    "plt.subplot(121)\n",
    "\n",
    "plt.stem(freq, np.abs(X1), linefmt='b', markerfmt=\" \", basefmt=\"-b\")\n",
    "plt.title('FFT: Axial')\n",
    "plt.xlabel('Freq (Hz)')\n",
    "plt.ylabel('FFT Amplitude |X(freq)|')\n",
    "plt.xlim(0, 10)\n",
    "\n",
    "plt.subplot(122)\n",
    "plt.plot(t, ifft(X1), 'r')\n",
    "plt.plot(t, ifft(X1)-df['Axial'], 'b')\n",
    "plt.title('FFT inversa: Axial')\n",
    "plt.xlabel('Tempo (s)')\n",
    "plt.ylabel('g')\n",
    "plt.tight_layout()\n",
    "plt.show()"
   ]
  },
  {
   "cell_type": "code",
   "execution_count": null,
   "metadata": {},
   "outputs": [],
   "source": [
    "# Plot Horizontal\n",
    "\n",
    "plt.figure(figsize = (24, 6))\n",
    "plt.subplot(121)\n",
    "\n",
    "plt.stem(freq, np.abs(X2), linefmt='b', markerfmt=\" \", basefmt=\"-b\")\n",
    "plt.title('FFT: Horizontal')\n",
    "plt.xlabel('Freq (Hz)')\n",
    "plt.ylabel('FFT Amplitude |X(freq)|')\n",
    "plt.xlim(0, 10)\n",
    "\n",
    "plt.subplot(122)\n",
    "plt.plot(t, ifft(X2), 'r')\n",
    "plt.plot(t, ifft(X2)-df['Horizontal'], 'b')\n",
    "plt.title('FFT inversa: Horizontal')\n",
    "plt.xlabel('Tempo (s)')\n",
    "plt.ylabel('g')\n",
    "plt.tight_layout()\n",
    "plt.show()"
   ]
  },
  {
   "cell_type": "code",
   "execution_count": null,
   "metadata": {},
   "outputs": [],
   "source": [
    "# Plot Vertical\n",
    "\n",
    "plt.figure(figsize = (24, 6))\n",
    "plt.subplot(121)\n",
    "\n",
    "plt.stem(freq, np.abs(X3), linefmt='b', markerfmt=\" \", basefmt=\"-b\")\n",
    "plt.title('FFT: Vertical')\n",
    "plt.xlabel('Freq (Hz)')\n",
    "plt.ylabel('FFT Amplitude |X(freq)|')\n",
    "plt.xlim(0, 10)\n",
    "\n",
    "plt.subplot(122)\n",
    "plt.plot(t, ifft(X3), 'r')\n",
    "plt.plot(t, ifft(X3)-df['Vertical'], 'b')\n",
    "plt.title('FFT inversa: Vertical')\n",
    "plt.xlabel('Tempo (s)')\n",
    "plt.ylabel('g')\n",
    "plt.tight_layout()\n",
    "plt.show()"
   ]
  }
 ],
 "metadata": {
  "interpreter": {
   "hash": "916dbcbb3f70747c44a77c7bcd40155683ae19c65e1c03b4aa3499c5328201f1"
  },
  "kernelspec": {
   "display_name": "Python 3.8.10 64-bit",
   "language": "python",
   "name": "python3"
  },
  "language_info": {
   "codemirror_mode": {
    "name": "ipython",
    "version": 3
   },
   "file_extension": ".py",
   "mimetype": "text/x-python",
   "name": "python",
   "nbconvert_exporter": "python",
   "pygments_lexer": "ipython3",
   "version": "3.8.10"
  },
  "orig_nbformat": 4
 },
 "nbformat": 4,
 "nbformat_minor": 2
}
